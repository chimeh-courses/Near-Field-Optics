{
 "cells": [
  {
   "cell_type": "markdown",
   "metadata": {},
   "source": [
    "# Transmission of light through a few nanometer film of silver\n",
    "\n",
    "A thin film of silver is thermally evaporated on glass. We estimate the thickness to be 10 nm. In this file we are going to simulate its optical transmission spectrum.\n",
    "\n",
    "## Import"
   ]
  },
  {
   "cell_type": "code",
   "execution_count": 2,
   "metadata": {},
   "outputs": [],
   "source": [
    "import matplotlib.pyplot as plt\n",
    "import yaml\n",
    "import numpy as np\n",
    "from scipy.constants import c"
   ]
  },
  {
   "cell_type": "markdown",
   "metadata": {},
   "source": [
    "## Parameters\n"
   ]
  },
  {
   "cell_type": "code",
   "execution_count": 9,
   "metadata": {},
   "outputs": [],
   "source": [
    "layer_thickness = 10e-9 # thickness of layer\n"
   ]
  },
  {
   "cell_type": "markdown",
   "metadata": {},
   "source": [
    "## Load refractive index of silver"
   ]
  },
  {
   "cell_type": "code",
   "execution_count": null,
   "metadata": {},
   "outputs": [],
   "source": [
    "# Load the YAML file\n",
    "with open('Ag_Johnson.yml', 'r') as file:\n",
    "    yaml_data = yaml.safe_load(file)\n",
    "\n",
    "# Extract the \"data\" field from the \"DATA\" section\n",
    "data_field = yaml_data['DATA'][0]['data']\n",
    "\n",
    "# Split the data into lines and convert it into a numpy array\n",
    "lines = data_field.strip().split('\\n')\n",
    "data_array = np.array([list(map(float, line.split())) for line in lines])\n",
    "\n",
    "# Print the resulting numpy array\n",
    "print(data_array[:,0])\n",
    "plt.plot\n"
   ]
  },
  {
   "cell_type": "code",
   "execution_count": 26,
   "metadata": {},
   "outputs": [
    {
     "name": "stdout",
     "output_type": "stream",
     "text": [
      "[-3.2404400e-01+2.59368j -3.0782400e-01+2.7104j  -3.2062500e-01+2.8112j\n",
      " -3.3112900e-01+2.91156j -3.5711600e-01+2.9808j  -3.2894400e-01+3.09632j\n",
      " -3.1562500e-01+3.18j    -2.9649600e-01+3.25984j -2.3846400e-01+3.355j\n",
      " -2.1873600e-01+3.38688j -2.0304900e-01+3.47392j -2.3028900e-01+3.49952j\n",
      " -2.0888400e-01+3.5828j  -2.1322100e-01+3.63918j -1.7154900e-01+3.70538j\n",
      " -1.0126900e-01+3.7449j   2.2016000e-02+3.78672j  2.1653900e-01+3.75342j\n",
      "  3.9040400e-01+3.56448j  5.8417900e-01+3.22758j  8.6630400e-01+2.58352j\n",
      "  8.9744400e-01+1.39216j  5.0243600e-01+0.63504j -6.5834100e-01+0.28186j\n",
      " -1.2845640e+00+0.31976j -2.0035610e+00+0.2838j  -2.7407490e+00+0.23198j\n",
      " -3.4719960e+00+0.1864j  -4.2824000e+00+0.207j   -5.1731250e+00+0.2275j\n",
      " -6.0598440e+00+0.19696j -7.0580490e+00+0.21256j -8.2286610e+00+0.2869j\n",
      " -9.5641490e+00+0.3093j  -1.1046476e+01+0.3324j  -1.2855796e+01+0.43032j\n",
      " -1.4881664e+01+0.3858j  -1.7235504e+01+0.49824j -2.0094789e+01+0.4483j\n",
      " -2.3404644e+01+0.38704j -2.7477664e+01+0.31452j -3.2796929e+01+0.45816j\n",
      " -3.9839744e+01+0.50496j -4.8886464e+01+0.55936j -6.0760425e+01+0.6236j\n",
      " -7.7925484e+01+1.58904j -1.0199310e+02+2.626j   -1.4040000e+02+3.555j\n",
      " -1.9818880e+02+6.7584j ]\n"
     ]
    }
   ],
   "source": [
    "# Extract data\n",
    "wavelengths = data_array[:,0]*1e-6\n",
    "n = data_array[:,1]\n",
    "k = data_array[:,2]\n",
    "\n",
    "# Calculate the permittivity\n",
    "eps_r = (n + 1j * k)**2\n",
    "print(eps_r)"
   ]
  }
 ],
 "metadata": {
  "kernelspec": {
   "display_name": "base",
   "language": "python",
   "name": "python3"
  },
  "language_info": {
   "codemirror_mode": {
    "name": "ipython",
    "version": 3
   },
   "file_extension": ".py",
   "mimetype": "text/x-python",
   "name": "python",
   "nbconvert_exporter": "python",
   "pygments_lexer": "ipython3",
   "version": "3.11.7"
  }
 },
 "nbformat": 4,
 "nbformat_minor": 2
}
