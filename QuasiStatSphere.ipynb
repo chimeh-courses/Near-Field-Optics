{
 "cells": [
  {
   "cell_type": "code",
   "execution_count": 1,
   "id": "dfe3daef-ef15-43ff-8a4c-e559077c33f3",
   "metadata": {},
   "outputs": [],
   "source": [
    "import numpy as np\n",
    "from scipy.constants import c, epsilon_0 as eps_0, mu_0\n",
    "import matplotlib.pyplot as plt"
   ]
  },
  {
   "cell_type": "code",
   "execution_count": 2,
   "id": "8b382faa-2bb8-4855-8a59-fa34cd28f6e8",
   "metadata": {},
   "outputs": [],
   "source": [
    "# Drude material model\n",
    "class DrudeMaterial:\n",
    "    def __init__(self, eps_s, omega_p, gamma):\n",
    "        self.eps_s = eps_s\n",
    "        self.omega_p = omega_p\n",
    "        self.gamma = gamma\n",
    "\n",
    "    def eps_r(self, omega):\n",
    "        eps_r = self.eps_s*(1 - self.omega_p**2 / omega / (omega + 1j * self.gamma))\n",
    "        return eps_r       "
   ]
  },
  {
   "cell_type": "code",
   "execution_count": 3,
   "id": "4e2ce7cc-f7b5-4f2c-b6da-8044231008a1",
   "metadata": {},
   "outputs": [],
   "source": [
    "# Materials\n",
    "# Indium Antimonide\n",
    "eps_s = 15.68\n",
    "omega_p = 1.860e14 # rad/s\n",
    "gamma = 1e12 # 1/s\n",
    "InSb = DrudeMaterial(eps_s,omega_p,gamma)\n",
    "\n",
    "# Gold\n",
    "eps_s = 9.1\n",
    "omega_p = 1.38e16 / np.sqrt(eps_s) # rad/s\n",
    "gamma = 1.08e14 # 1/s !!! Pocock 2018, check with others'\n",
    "Au = DrudeMaterial(eps_s,omega_p,gamma);\n",
    "\n",
    "# Silver\n",
    "eps_s = 3.3\n",
    "omega_p = 1.38e16 / np.sqrt(eps_s) # rad/s\n",
    "gamma = 1.08e14 # 1/s !!! Pocock 2018, check with others'\n",
    "Au = DrudeMaterial(eps_s,omega_p,gamma);"
   ]
  },
  {
   "cell_type": "markdown",
   "id": "3a09ab22",
   "metadata": {},
   "source": [
    "A sphere with a radius $R << \\lambda$\n",
    "Polarizability"
   ]
  },
  {
   "cell_type": "code",
   "execution_count": null,
   "id": "fb9d50bf-c077-40da-9d3a-9b52e90aaa09",
   "metadata": {},
   "outputs": [],
   "source": [
    "# Objects\n",
    "class SWLSphere: # sub-wavelength sphere\n",
    "\n",
    "    def __init__(self, radius, material):\n",
    "        self.radius = radius\n",
    "        self.material = material\n",
    "\n",
    "    def polarizability(self,omega):\n",
    "        alpha = 4 * np.pi * self.radius**3 * (self.material.eps_r(omega) - 1) / (self.material.eps_r(omega) + 2) * np.eye(3)\n",
    "        return alpha\n",
    "\n",
    "    def resonanceFrequency(self):\n",
    "        omeagLP = np.sqrt(self.material.eps_s / (self.material.eps_s + 2) * self.material.omega_p**2 - self.material.gamma**2 / 4)\n",
    "        return omeagLP\n",
    "        # Calc other parameters: gamma, A, phi\n",
    "    "
   ]
  },
  {
   "cell_type": "code",
   "execution_count": 42,
   "id": "4d29a36d",
   "metadata": {},
   "outputs": [
    {
     "name": "stdout",
     "output_type": "stream",
     "text": [
      "4141719541054989.5\n",
      "454.7994012238319\n"
     ]
    }
   ],
   "source": [
    "radius1 = 10e-9 # [m]\n",
    "material1 = Au\n",
    "speher1 = SWLSphere(radius1, material1)\n",
    "omega_LP = speher1.resonanceFrequency()\n",
    "print(omega_LP)\n",
    "lambda_LP = 2 * np.pi * c / omega_LP * 1e9 # [nm]\n",
    "print(lambda_LP)"
   ]
  },
  {
   "cell_type": "code",
   "execution_count": 43,
   "id": "72ffe65f-a9fc-498b-bb64-54baf0baa976",
   "metadata": {},
   "outputs": [],
   "source": [
    "# Green's functions\n",
    "# Change this to a class or just have a list of functions?\n",
    "def GreenEE0(vR, omega):\n",
    "    # Calculates Green's function j --> E\n",
    "    R = np.linalg.norm(vR)\n",
    "    k = omega / c\n",
    "    exp_term = np.exp(1j * k * R) / (4 * np.pi * R)\n",
    "    term1 = (1 + 1j / (k * R) - 1 / (k * R)**2) * np.eye(3)\n",
    "    term2 = (-1 - 3j / (k * R) + 3 / (k * R)**2) / R**2 * np.outer(vR, vR)\n",
    "    g = exp_term * (term1 + term2)\n",
    "    return g"
   ]
  },
  {
   "cell_type": "code",
   "execution_count": 19,
   "id": "3e6b7324-cb3f-41a4-8fcb-3d28b4455f57",
   "metadata": {},
   "outputs": [
    {
     "ename": "SyntaxError",
     "evalue": "incomplete input (832338674.py, line 43)",
     "output_type": "error",
     "traceback": [
      "\u001b[1;36m  Cell \u001b[1;32mIn[19], line 43\u001b[1;36m\u001b[0m\n\u001b[1;33m    # How to find to P ???\u001b[0m\n\u001b[1;37m                          ^\u001b[0m\n\u001b[1;31mSyntaxError\u001b[0m\u001b[1;31m:\u001b[0m incomplete input\n"
     ]
    }
   ],
   "source": [
    "# Finite Array of particles\n",
    "class finiteArray:\n",
    "    \n",
    "    def __init__(self, particles, centers):      \n",
    "        self.centers = centers; # centers[ii,:]: ii'th center: \n",
    "        self.particles = particles;\n",
    "\n",
    "    def couplingMatrix(self, omega):\n",
    "        # Calculates the coupling matrix from Green's function\n",
    "        N = self.centers.shape[0]\n",
    "        M = np.empty((3 * N, 3 * N), dtype=complex)\n",
    "        for ii in range(N):\n",
    "            for jj in range(N):\n",
    "                if ii == jj:\n",
    "                    M[3*ii:3*ii+3, 3*jj:3*jj+3] = np.zeros((3, 3)) # add self-interaction\n",
    "                else:\n",
    "                    M[3*ii:3*ii+3, 3*jj:3*jj+3] = (mu_0 * omega**2 * \n",
    "                                                    self.GreenEE(self.centers[ii] - self.centers[jj], omega))\n",
    "        return M\n",
    "    \n",
    "    # Can we give a handle of function as an attribute to a class?\n",
    "    def GreenEE(self, r, rs, omega):\n",
    "        # Green's function\n",
    "        g = GreenEE0(r - rs, omega)\n",
    "        return g\n",
    "\n",
    "\n",
    "    def naturalFreqsApprox(self):\n",
    "        # Approximate complex natural frequencies of the coupled ensemble\n",
    "        omegaLP = self.particles[0].resonanceFrequency()  # the narrowest resonance among the particles\n",
    "        gammaLP = self.particles[0].material.gamma / 2\n",
    "        eigenValues = np.linalg.eig(self.couplingMatrix(omegaLP - 1j * gammaLP))\n",
    "        # Approximate complex natural frequencies \n",
    "        N = np.eigenValues.shape[0]\n",
    "        return  \n",
    "    \n",
    "    def naturalFreqs(self):\n",
    "        # Finds complex natural frequencies of the coupled ensemble\n",
    "        # fun = lambda x: np.linalg.det(self.couplingMatrix(x[0] + 1j * x[1]))\n",
    "        # x0 = self.approximateNM()\n",
    "        # omegas = fsolve(fun, x0)\n",
    "        # amplitudes of dipoles from (M-1/alpha)P = 0\n",
    "        # How to find to P ???\n"
   ]
  }
 ],
 "metadata": {
  "kernelspec": {
   "display_name": "base",
   "language": "python",
   "name": "python3"
  },
  "language_info": {
   "codemirror_mode": {
    "name": "ipython",
    "version": 3
   },
   "file_extension": ".py",
   "mimetype": "text/x-python",
   "name": "python",
   "nbconvert_exporter": "python",
   "pygments_lexer": "ipython3",
   "version": "3.11.7"
  }
 },
 "nbformat": 4,
 "nbformat_minor": 5
}
